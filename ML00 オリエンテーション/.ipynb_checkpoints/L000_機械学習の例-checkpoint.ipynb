{
 "cells": [
  {
   "cell_type": "markdown",
   "metadata": {},
   "source": [
    "# 識別対象のサンプルデータ\n",
    "架空のデータを使って２項識別器の例を見ていきます。\n",
    "\n",
    "ここで使うデータは架空のデータですが、ベースは[都道府県別統計とランキングで見る県民性-東西対立型ランキング](http://todo-ran.com/t/type/1) から持ってきたデータを加工して作ったものです。"
   ]
  },
  {
   "cell_type": "code",
   "execution_count": 1,
   "metadata": {
    "collapsed": true
   },
   "outputs": [],
   "source": [
    "import numpy as np\n",
    "import pandas as pd\n",
    "import matplotlib.pyplot  as plt\n",
    "from sklearn.preprocessing import StandardScaler\n",
    "from sklearn.preprocessing import MinMaxScaler"
   ]
  },
  {
   "cell_type": "code",
   "execution_count": 2,
   "metadata": {},
   "outputs": [
    {
     "ename": "UnicodeDecodeError",
     "evalue": "'cp932' codec can't decode byte 0xef in position 0: illegal multibyte sequence",
     "output_type": "error",
     "traceback": [
      "\u001b[1;31m---------------------------------------------------------------------------\u001b[0m",
      "\u001b[1;31mUnicodeDecodeError\u001b[0m                        Traceback (most recent call last)",
      "\u001b[1;32m<ipython-input-2-51e08b4dd02e>\u001b[0m in \u001b[0;36m<module>\u001b[1;34m()\u001b[0m\n\u001b[0;32m      1\u001b[0m \u001b[1;32mwith\u001b[0m \u001b[0mopen\u001b[0m\u001b[1;33m(\u001b[0m\u001b[1;34m'data.csv'\u001b[0m\u001b[1;33m)\u001b[0m \u001b[1;32mas\u001b[0m \u001b[0mf\u001b[0m\u001b[1;33m:\u001b[0m\u001b[1;33m\u001b[0m\u001b[0m\n\u001b[1;32m----> 2\u001b[1;33m     \u001b[0mprint\u001b[0m\u001b[1;33m(\u001b[0m\u001b[0mf\u001b[0m\u001b[1;33m.\u001b[0m\u001b[0mread\u001b[0m\u001b[1;33m(\u001b[0m\u001b[1;33m)\u001b[0m\u001b[1;33m)\u001b[0m\u001b[1;33m\u001b[0m\u001b[0m\n\u001b[0m",
      "\u001b[1;31mUnicodeDecodeError\u001b[0m: 'cp932' codec can't decode byte 0xef in position 0: illegal multibyte sequence"
     ]
    }
   ],
   "source": [
    "with open('data.csv') as f:\n",
    "    print(f.read())"
   ]
  },
  {
   "cell_type": "code",
   "execution_count": null,
   "metadata": {
    "collapsed": true
   },
   "outputs": [],
   "source": [
    "data = pd.read_csv(\"data.csv\", delimiter=\",\", encoding=\"utf-8\")  # header がない場合は header=None"
   ]
  },
  {
   "cell_type": "code",
   "execution_count": null,
   "metadata": {
    "collapsed": true
   },
   "outputs": [],
   "source": [
    "X=data[['平均気温','納豆消費量']]\n",
    "y=data['東西ラベル']"
   ]
  },
  {
   "cell_type": "code",
   "execution_count": null,
   "metadata": {
    "collapsed": true
   },
   "outputs": [],
   "source": [
    "X.head(8)  # 上から8個表示 "
   ]
  },
  {
   "cell_type": "markdown",
   "metadata": {},
   "source": [
    "# 元のデータのプロット\n"
   ]
  },
  {
   "cell_type": "code",
   "execution_count": null,
   "metadata": {
    "collapsed": true
   },
   "outputs": [],
   "source": [
    "plt.scatter(X['平均気温'],X['納豆消費量'],c=y,s=50)\n",
    "plt.show()"
   ]
  },
  {
   "cell_type": "markdown",
   "metadata": {},
   "source": [
    "# 標準化と正規化\n",
    "平均気温と納豆消費量では分布の幅が違いすぎる。識別器によっては両者の粒度を合わせないとまったくうまくいかない。"
   ]
  },
  {
   "cell_type": "code",
   "execution_count": null,
   "metadata": {
    "collapsed": true
   },
   "outputs": [],
   "source": [
    "# 標準化\n",
    "sc = StandardScaler()\n",
    "data_std = sc.fit_transform(X)\n",
    " \n",
    "# 正規化\n",
    "ms = MinMaxScaler()\n",
    "data_norm = ms.fit_transform(X)"
   ]
  },
  {
   "cell_type": "markdown",
   "metadata": {},
   "source": [
    "# 標準化\n",
    "平均が０，標準偏差が１となるように線形変換を施す。"
   ]
  },
  {
   "cell_type": "code",
   "execution_count": null,
   "metadata": {
    "collapsed": true
   },
   "outputs": [],
   "source": [
    "# matplotlibの準備\n",
    "import matplotlib.pyplot as plt\n",
    "%matplotlib inline\n",
    "plt.set_cmap(plt.cm.Paired) # 色設定\n",
    "\n",
    "plt.scatter(data_std[:,0],data_std[:,1],c=y,s=50)\n",
    "plt.show()"
   ]
  },
  {
   "cell_type": "markdown",
   "metadata": {},
   "source": [
    "# 正規化\n",
    "データが０〜１の範囲になるように線形変換をほどこす。"
   ]
  },
  {
   "cell_type": "code",
   "execution_count": null,
   "metadata": {
    "collapsed": true
   },
   "outputs": [],
   "source": [
    "plt.scatter(data_norm[:,0],data_norm[:,1],c=y,s=50)\n",
    "plt.show()"
   ]
  },
  {
   "cell_type": "code",
   "execution_count": null,
   "metadata": {
    "collapsed": true
   },
   "outputs": [],
   "source": [
    "# 境界線を引く関数の定義\n",
    "\n",
    "def plotBoundary(X, clf, mesh=True, boundary=True, n_neighbors=1):\n",
    "\n",
    "    # plot range\n",
    "    x_min = min(X[:,0])\n",
    "    x_max = max(X[:,0])\n",
    "    y_min = min(X[:,1])\n",
    "    y_max = max(X[:,1])\n",
    "\n",
    "    # visualizing decision function\n",
    "    XX, YY = np.mgrid[x_min:x_max:200j, y_min:y_max:200j] # make a grid\n",
    "    \n",
    "    Z = clf.predict(np.c_[XX.ravel(), YY.ravel()]) # evaluate the value \n",
    "    \n",
    "    Z = Z.reshape(XX.shape) # just reshape\n",
    "\n",
    "    if mesh:\n",
    "        plt.pcolormesh(XX, YY, Z, zorder=-10) # paint in 2 colors, if Z > 0 or not\n",
    "\n",
    "    if boundary:\n",
    "        plt.contour(XX, YY, Z, \n",
    "                    colors='k', linestyles='-', levels=[0])\n",
    "\n",
    "    plt.xlim(x_min, x_max)\n",
    "    plt.ylim(y_min, y_max)"
   ]
  },
  {
   "cell_type": "markdown",
   "metadata": {},
   "source": [
    "# 最近傍識別(k-nn で n=1)\n",
    "未知のデータの識別結果＝既知のデータで、最も近いデータと同じ結果"
   ]
  },
  {
   "cell_type": "code",
   "execution_count": null,
   "metadata": {
    "collapsed": true
   },
   "outputs": [],
   "source": [
    "from sklearn import neighbors\n",
    "\n",
    "# 識別オブジェクト作成\n",
    "clf = neighbors.KNeighborsClassifier(n_neighbors=1)"
   ]
  },
  {
   "cell_type": "code",
   "execution_count": null,
   "metadata": {
    "collapsed": true,
    "scrolled": false
   },
   "outputs": [],
   "source": [
    "clf.fit(data_std, y) # 　　標準化データを用いて学習\n",
    "\n",
    "plt.scatter(data_std[:, 0], data_std[:,1], marker='o', s=50, c=y)\n",
    "\n",
    "plotBoundary(data_std, clf) # 境界線の描画"
   ]
  },
  {
   "cell_type": "code",
   "execution_count": null,
   "metadata": {
    "collapsed": true
   },
   "outputs": [],
   "source": [
    "clf.fit(data_norm, y) # 正規化データを用いて学習\n",
    "\n",
    "plt.scatter(data_norm[:, 0], data_norm[:,1], marker='o', s=50, c=y)\n",
    "\n",
    "plotBoundary(data_norm, clf) # 境界線の描画"
   ]
  },
  {
   "cell_type": "markdown",
   "metadata": {},
   "source": [
    "# k-最近傍識別\n",
    "k=3 、すなわち、最も近い既知データを３つ選びそれらの多数決で判定結果を決定"
   ]
  },
  {
   "cell_type": "code",
   "execution_count": null,
   "metadata": {
    "collapsed": true
   },
   "outputs": [],
   "source": [
    "# 識別オブジェクト作成\n",
    "clf = neighbors.KNeighborsClassifier(n_neighbors=3)\n",
    "clf.fit(data_std, y) # 正規化データを用いて学習\n",
    "plt.scatter(data_std[:, 0], data_std[:,1], marker='o', s=50, c=y)\n",
    "plotBoundary(data_std, clf) # 境界線の描画"
   ]
  },
  {
   "cell_type": "code",
   "execution_count": null,
   "metadata": {
    "collapsed": true
   },
   "outputs": [],
   "source": [
    "clf.fit(data_norm, y) # 正規化データを用いて学習\n",
    "plt.scatter(data_norm[:, 0], data_norm[:,1], marker='o', s=50, c=y)\n",
    "plotBoundary(data_norm, clf) # 境界線の描画"
   ]
  },
  {
   "cell_type": "markdown",
   "metadata": {},
   "source": [
    "# ロジスティック回帰\n",
    "単純パーセプトロンで特性関数をロジスティック関数に設定したもの"
   ]
  },
  {
   "cell_type": "code",
   "execution_count": null,
   "metadata": {
    "collapsed": true
   },
   "outputs": [],
   "source": [
    "# モジュールの準備\n",
    "from sklearn import linear_model\n",
    "# オブジェクト作成\n",
    "clf = linear_model.LogisticRegression()\n",
    "clf.fit(data_std, y) # 正規化データを用いて学習\n",
    "plt.scatter(data_std[:, 0], data_std[:,1], marker='o', s=50, c=y)\n",
    "plotBoundary(data_std, clf) # 境界線の描画"
   ]
  },
  {
   "cell_type": "code",
   "execution_count": null,
   "metadata": {
    "collapsed": true
   },
   "outputs": [],
   "source": [
    "clf.fit(data_norm, y) # 正規化データを用いて学習\n",
    "plt.scatter(data_norm[:, 0], data_norm[:,1], marker='o', s=50, c=y)\n",
    "plotBoundary(data_norm, clf) # 境界線の描画"
   ]
  },
  {
   "cell_type": "markdown",
   "metadata": {},
   "source": [
    "ロジスティック回帰は見ての通り、線型識別である。"
   ]
  },
  {
   "cell_type": "markdown",
   "metadata": {},
   "source": [
    "# 線型SVM （サポートベクターマシン）\n",
    "\n",
    "データをまっすぐなひとつの識別面（線）だけで分離するという点ではロジスティック回帰と同じだが、識別面と両クラスのデータのマージンが最大になるように識別面を最適化する。\n",
    "<img src =\"https://camo.qiitausercontent.com/3b09b1e5b79149434df411160f07ccfde4dd70eb/68747470733a2f2f71696974612d696d6167652d73746f72652e73332e616d617a6f6e6177732e636f6d2f302f33343732312f38333530323330312d346435302d386165612d643266322d3339633232613933616166392e706e67\" width=300>\n",
    "[線型SVM](https://qiita.com/rennnosuke/items/cd01aa855196340167df)\n"
   ]
  },
  {
   "cell_type": "code",
   "execution_count": null,
   "metadata": {
    "collapsed": true
   },
   "outputs": [],
   "source": [
    "# モジュールの準備\n",
    "from sklearn import svm\n",
    "# オブジェクト作成\n",
    "clf = svm.LinearSVC(C=1)\n",
    "clf.fit(data_std, y) # 正規化データを用いて学習\n",
    "plt.scatter(data_std[:, 0], data_std[:,1], marker='o', s=50, c=y)\n",
    "plotBoundary(data_std, clf) # 境界線の描画"
   ]
  },
  {
   "cell_type": "code",
   "execution_count": null,
   "metadata": {
    "collapsed": true
   },
   "outputs": [],
   "source": [
    "clf.fit(data_norm, y) # 正規化データを用いて学習\n",
    "plt.scatter(data_norm[:, 0], data_norm[:,1], marker='o', s=50, c=y)\n",
    "plotBoundary(data_norm, clf) # 境界線の描画"
   ]
  },
  {
   "cell_type": "markdown",
   "metadata": {},
   "source": [
    "上の図で、識別面の両側にある色の違う点は、そのようなデータは誤認識してしまうことを意味する。\n",
    "\n",
    "これは SVMのアルゴリズムがある程度の誤認識の許容度の範囲でデータ全体でのマージンを最大化するというアルゴリズムだからである。\n",
    "\n",
    "<img src =\"https://goo.gl/i7skbi\" width=300>\n",
    "\n",
    "scikit-learn の 線型SVMはパラメータ設定で許容度を変更することもできる。\n",
    "\n",
    "> clf = svm.LinearSVC(C=1)\n",
    "\n",
    "Cはエラーに対するペナルティの大きさを意味し、デフォルトは１である。ためしに、C=100でやってみよう。"
   ]
  },
  {
   "cell_type": "code",
   "execution_count": null,
   "metadata": {
    "collapsed": true
   },
   "outputs": [],
   "source": [
    "clf = svm.LinearSVC(C=100)\n",
    "clf.fit(data_norm, y) # 正規化データを用いて学習\n",
    "plt.scatter(data_norm[:, 0], data_norm[:,1], marker='o', s=50, c=y)\n",
    "plotBoundary(data_norm, clf) # 境界線の描画"
   ]
  },
  {
   "cell_type": "markdown",
   "metadata": {},
   "source": [
    "# 非線形SVM\n",
    "\n",
    "なるべく多くのマージンを確保するという基本的なアイデアはそのままに、識別面として曲面を許すように拡張した SVM\n",
    "\n",
    "> clf = svm.SVC(kernel='rbf', C=1.)\n",
    "\n",
    "kernel というパラメータで、識別面の種類を指定する。\n",
    "\n",
    "- 'linear’  平面（LinearSVCとおなじになる）\n",
    "- ‘poly’ 多項式面\n",
    "- ‘rbf’ ガウシアン関数　　sklearn のデフォルト\n",
    "- ‘sigmoid’　シグモイド関数\n",
    "\n",
    "参考\n",
    "\n",
    "- [Support Vector Machines](http://scikit-learn.org/stable/modules/svm.html)\n",
    "- [非線形SVM](https://qiita.com/rennnosuke/items/fab837825b64bf50be56)\n"
   ]
  },
  {
   "cell_type": "code",
   "execution_count": null,
   "metadata": {
    "collapsed": true
   },
   "outputs": [],
   "source": [
    "# モジュールの準備\n",
    "from sklearn import svm\n",
    "# オブジェクト作成\n",
    "clf = svm.SVC(kernel='rbf')"
   ]
  },
  {
   "cell_type": "code",
   "execution_count": null,
   "metadata": {
    "collapsed": true
   },
   "outputs": [],
   "source": [
    "clf.fit(data_std, y) # 正規化データを用いて学習\n",
    "plt.scatter(data_std[:, 0], data_std[:,1], marker='o', s=50, c=y)\n",
    "plotBoundary(data_std, clf) # 境界線の描画"
   ]
  },
  {
   "cell_type": "code",
   "execution_count": null,
   "metadata": {
    "collapsed": true
   },
   "outputs": [],
   "source": [
    "clf.fit(data_norm, y) # 正規化データを用いて学習\n",
    "plt.scatter(data_norm[:, 0], data_norm[:,1], marker='o', s=50, c=y)\n",
    "plotBoundary(data_norm, clf) # 境界線の描画"
   ]
  },
  {
   "cell_type": "markdown",
   "metadata": {},
   "source": [
    "はみ出るデータが多いのでペナルティ項を大きくしてみる"
   ]
  },
  {
   "cell_type": "code",
   "execution_count": null,
   "metadata": {
    "collapsed": true
   },
   "outputs": [],
   "source": [
    "clf = svm.SVC(kernel='rbf', C=10)\n",
    "clf.fit(data_norm, y) # 正規化データを用いて学習\n",
    "plt.scatter(data_norm[:, 0], data_norm[:,1], marker='o', s=50, c=y)\n",
    "plotBoundary(data_norm, clf) # 境界線の描画"
   ]
  },
  {
   "cell_type": "code",
   "execution_count": null,
   "metadata": {
    "collapsed": true
   },
   "outputs": [],
   "source": [
    "clf = svm.SVC(kernel='rbf', C=30)\n",
    "clf.fit(data_norm, y) # 正規化データを用いて学習\n",
    "plt.scatter(data_norm[:, 0], data_norm[:,1], marker='o', s=50, c=y)\n",
    "plotBoundary(data_norm, clf) # 境界線の描画"
   ]
  },
  {
   "cell_type": "code",
   "execution_count": null,
   "metadata": {
    "collapsed": true
   },
   "outputs": [],
   "source": [
    "clf = svm.SVC(kernel='rbf', C=35)\n",
    "clf.fit(data_norm, y) # 正規化データを用いて学習\n",
    "plt.scatter(data_norm[:, 0], data_norm[:,1], marker='o', s=50, c=y)\n",
    "plotBoundary(data_norm, clf) # 境界線の描画"
   ]
  },
  {
   "cell_type": "code",
   "execution_count": null,
   "metadata": {
    "collapsed": true
   },
   "outputs": [],
   "source": []
  }
 ],
 "metadata": {
  "anaconda-cloud": {},
  "kernelspec": {
   "display_name": "Python [default]",
   "language": "python",
   "name": "python3"
  },
  "language_info": {
   "codemirror_mode": {
    "name": "ipython",
    "version": 3
   },
   "file_extension": ".py",
   "mimetype": "text/x-python",
   "name": "python",
   "nbconvert_exporter": "python",
   "pygments_lexer": "ipython3",
   "version": "3.5.3"
  }
 },
 "nbformat": 4,
 "nbformat_minor": 1
}
