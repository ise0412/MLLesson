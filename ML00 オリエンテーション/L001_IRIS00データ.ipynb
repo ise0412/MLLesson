{
 "cells": [
  {
   "cell_type": "markdown",
   "metadata": {},
   "source": [
    "# L001   IRIS データ\n"
   ]
  },
  {
   "cell_type": "code",
   "execution_count": 4,
   "metadata": {
    "collapsed": true
   },
   "outputs": [],
   "source": [
    "\"\"\"必要なライブラリ\"\"\";\n",
    "import matplotlib.pyplot as plt\n",
    "# from mpl_toolkits.mplot3d import Axes3D\n",
    "from sklearn.decomposition import PCA"
   ]
  },
  {
   "cell_type": "markdown",
   "metadata": {},
   "source": [
    "Anaconda に標準で入っている機械学習ライブラリ scikit-learn (sklern) にはいくつかのサンプルデータを読み込むメソッドがあります。\n",
    "\n",
    "今回はそのうちのひとつ、IRIS＝　アヤメの花のデータを使ってみます。\n",
    "\n",
    "-[scikit-learn に付属しているデータセット](https://goo.gl/Ebqu34)\n"
   ]
  },
  {
   "cell_type": "code",
   "execution_count": 5,
   "metadata": {
    "collapsed": true
   },
   "outputs": [],
   "source": [
    "# IRISデータの読み込み\n",
    "from sklearn.datasets import load_iris\n",
    "iris = load_iris()"
   ]
  },
  {
   "cell_type": "markdown",
   "metadata": {},
   "source": [
    "iris という変数に代入されるのは 一種のpython のdict（辞書）型のデータです。"
   ]
  },
  {
   "cell_type": "code",
   "execution_count": 6,
   "metadata": {},
   "outputs": [
    {
     "name": "stdout",
     "output_type": "stream",
     "text": [
      "dict_keys(['DESCR', 'target', 'data', 'feature_names', 'target_names'])\n"
     ]
    }
   ],
   "source": [
    "print(iris.keys())"
   ]
  },
  {
   "cell_type": "code",
   "execution_count": 7,
   "metadata": {},
   "outputs": [
    {
     "data": {
      "text/plain": [
       "['DESCR', 'data', 'feature_names', 'target', 'target_names']"
      ]
     },
     "execution_count": 7,
     "metadata": {},
     "output_type": "execute_result"
    }
   ],
   "source": [
    "dir(iris)"
   ]
  },
  {
   "cell_type": "markdown",
   "metadata": {},
   "source": [
    "- data  生データ\n",
    "- target 分類番号（iris の場合、0〜3 で表現)\n",
    "- target_names  分類名称\n",
    "- DESCR データのメタ情報\n",
    "- feature_names 特徴の名称\n",
    "\n",
    "例えば、生データそのものの３番（０から始まるので４つ目）を参照したければ、 **iris['data'][3]** または、**iris.data[3]**で参照できます。\n",
    "生データと分類番号の 先頭５つを表示してみましょう。"
   ]
  },
  {
   "cell_type": "code",
   "execution_count": 8,
   "metadata": {},
   "outputs": [
    {
     "data": {
      "text/plain": [
       "(array([[ 5.1,  3.5,  1.4,  0.2],\n",
       "        [ 4.9,  3. ,  1.4,  0.2],\n",
       "        [ 4.7,  3.2,  1.3,  0.2],\n",
       "        [ 4.6,  3.1,  1.5,  0.2],\n",
       "        [ 5. ,  3.6,  1.4,  0.2]]), array([0, 0, 0, 0, 0]))"
      ]
     },
     "execution_count": 8,
     "metadata": {},
     "output_type": "execute_result"
    }
   ],
   "source": [
    "iris['data'][:5], iris.target[:5]"
   ]
  },
  {
   "cell_type": "markdown",
   "metadata": {},
   "source": [
    "このままプログラムで使ってもいいですが、こういう表形式のデータを扱うには、pandas が便利です。"
   ]
  },
  {
   "cell_type": "code",
   "execution_count": 9,
   "metadata": {
    "scrolled": true
   },
   "outputs": [
    {
     "data": {
      "text/html": [
       "<div>\n",
       "<style>\n",
       "    .dataframe thead tr:only-child th {\n",
       "        text-align: right;\n",
       "    }\n",
       "\n",
       "    .dataframe thead th {\n",
       "        text-align: left;\n",
       "    }\n",
       "\n",
       "    .dataframe tbody tr th {\n",
       "        vertical-align: top;\n",
       "    }\n",
       "</style>\n",
       "<table border=\"1\" class=\"dataframe\">\n",
       "  <thead>\n",
       "    <tr style=\"text-align: right;\">\n",
       "      <th></th>\n",
       "      <th>sepal length (cm)</th>\n",
       "      <th>sepal width (cm)</th>\n",
       "      <th>petal length (cm)</th>\n",
       "      <th>petal width (cm)</th>\n",
       "    </tr>\n",
       "  </thead>\n",
       "  <tbody>\n",
       "    <tr>\n",
       "      <th>0</th>\n",
       "      <td>5.1</td>\n",
       "      <td>3.5</td>\n",
       "      <td>1.4</td>\n",
       "      <td>0.2</td>\n",
       "    </tr>\n",
       "    <tr>\n",
       "      <th>1</th>\n",
       "      <td>4.9</td>\n",
       "      <td>3.0</td>\n",
       "      <td>1.4</td>\n",
       "      <td>0.2</td>\n",
       "    </tr>\n",
       "    <tr>\n",
       "      <th>2</th>\n",
       "      <td>4.7</td>\n",
       "      <td>3.2</td>\n",
       "      <td>1.3</td>\n",
       "      <td>0.2</td>\n",
       "    </tr>\n",
       "    <tr>\n",
       "      <th>3</th>\n",
       "      <td>4.6</td>\n",
       "      <td>3.1</td>\n",
       "      <td>1.5</td>\n",
       "      <td>0.2</td>\n",
       "    </tr>\n",
       "    <tr>\n",
       "      <th>4</th>\n",
       "      <td>5.0</td>\n",
       "      <td>3.6</td>\n",
       "      <td>1.4</td>\n",
       "      <td>0.2</td>\n",
       "    </tr>\n",
       "  </tbody>\n",
       "</table>\n",
       "</div>"
      ],
      "text/plain": [
       "   sepal length (cm)  sepal width (cm)  petal length (cm)  petal width (cm)\n",
       "0                5.1               3.5                1.4               0.2\n",
       "1                4.9               3.0                1.4               0.2\n",
       "2                4.7               3.2                1.3               0.2\n",
       "3                4.6               3.1                1.5               0.2\n",
       "4                5.0               3.6                1.4               0.2"
      ]
     },
     "execution_count": 9,
     "metadata": {},
     "output_type": "execute_result"
    }
   ],
   "source": [
    "import pandas as pd\n",
    "df = pd.DataFrame(iris.data, columns=iris.feature_names)\n",
    "df.head() # head(n) で先頭から n 個を取り出せる"
   ]
  },
  {
   "cell_type": "markdown",
   "metadata": {},
   "source": [
    "項目見出しを日本語に変えましょう。"
   ]
  },
  {
   "cell_type": "code",
   "execution_count": 10,
   "metadata": {},
   "outputs": [
    {
     "data": {
      "text/html": [
       "<div>\n",
       "<style>\n",
       "    .dataframe thead tr:only-child th {\n",
       "        text-align: right;\n",
       "    }\n",
       "\n",
       "    .dataframe thead th {\n",
       "        text-align: left;\n",
       "    }\n",
       "\n",
       "    .dataframe tbody tr th {\n",
       "        vertical-align: top;\n",
       "    }\n",
       "</style>\n",
       "<table border=\"1\" class=\"dataframe\">\n",
       "  <thead>\n",
       "    <tr style=\"text-align: right;\">\n",
       "      <th></th>\n",
       "      <th>がく片の長さ</th>\n",
       "      <th>がく片の幅</th>\n",
       "      <th>花片の長さ</th>\n",
       "      <th>花片の幅</th>\n",
       "    </tr>\n",
       "  </thead>\n",
       "  <tbody>\n",
       "    <tr>\n",
       "      <th>0</th>\n",
       "      <td>5.1</td>\n",
       "      <td>3.5</td>\n",
       "      <td>1.4</td>\n",
       "      <td>0.2</td>\n",
       "    </tr>\n",
       "    <tr>\n",
       "      <th>1</th>\n",
       "      <td>4.9</td>\n",
       "      <td>3.0</td>\n",
       "      <td>1.4</td>\n",
       "      <td>0.2</td>\n",
       "    </tr>\n",
       "    <tr>\n",
       "      <th>2</th>\n",
       "      <td>4.7</td>\n",
       "      <td>3.2</td>\n",
       "      <td>1.3</td>\n",
       "      <td>0.2</td>\n",
       "    </tr>\n",
       "    <tr>\n",
       "      <th>3</th>\n",
       "      <td>4.6</td>\n",
       "      <td>3.1</td>\n",
       "      <td>1.5</td>\n",
       "      <td>0.2</td>\n",
       "    </tr>\n",
       "    <tr>\n",
       "      <th>4</th>\n",
       "      <td>5.0</td>\n",
       "      <td>3.6</td>\n",
       "      <td>1.4</td>\n",
       "      <td>0.2</td>\n",
       "    </tr>\n",
       "  </tbody>\n",
       "</table>\n",
       "</div>"
      ],
      "text/plain": [
       "   がく片の長さ  がく片の幅  花片の長さ  花片の幅\n",
       "0     5.1    3.5    1.4   0.2\n",
       "1     4.9    3.0    1.4   0.2\n",
       "2     4.7    3.2    1.3   0.2\n",
       "3     4.6    3.1    1.5   0.2\n",
       "4     5.0    3.6    1.4   0.2"
      ]
     },
     "execution_count": 10,
     "metadata": {},
     "output_type": "execute_result"
    }
   ],
   "source": [
    "df.columns = ['がく片の長さ','がく片の幅','花片の長さ','花片の幅']\n",
    "df.head()"
   ]
  },
  {
   "cell_type": "markdown",
   "metadata": {},
   "source": [
    "特定の列だけを取り出す"
   ]
  },
  {
   "cell_type": "code",
   "execution_count": 11,
   "metadata": {},
   "outputs": [
    {
     "data": {
      "text/html": [
       "<div>\n",
       "<style>\n",
       "    .dataframe thead tr:only-child th {\n",
       "        text-align: right;\n",
       "    }\n",
       "\n",
       "    .dataframe thead th {\n",
       "        text-align: left;\n",
       "    }\n",
       "\n",
       "    .dataframe tbody tr th {\n",
       "        vertical-align: top;\n",
       "    }\n",
       "</style>\n",
       "<table border=\"1\" class=\"dataframe\">\n",
       "  <thead>\n",
       "    <tr style=\"text-align: right;\">\n",
       "      <th></th>\n",
       "      <th>がく片の長さ</th>\n",
       "      <th>花片の長さ</th>\n",
       "    </tr>\n",
       "  </thead>\n",
       "  <tbody>\n",
       "    <tr>\n",
       "      <th>0</th>\n",
       "      <td>5.1</td>\n",
       "      <td>1.4</td>\n",
       "    </tr>\n",
       "    <tr>\n",
       "      <th>1</th>\n",
       "      <td>4.9</td>\n",
       "      <td>1.4</td>\n",
       "    </tr>\n",
       "    <tr>\n",
       "      <th>2</th>\n",
       "      <td>4.7</td>\n",
       "      <td>1.3</td>\n",
       "    </tr>\n",
       "    <tr>\n",
       "      <th>3</th>\n",
       "      <td>4.6</td>\n",
       "      <td>1.5</td>\n",
       "    </tr>\n",
       "    <tr>\n",
       "      <th>4</th>\n",
       "      <td>5.0</td>\n",
       "      <td>1.4</td>\n",
       "    </tr>\n",
       "  </tbody>\n",
       "</table>\n",
       "</div>"
      ],
      "text/plain": [
       "   がく片の長さ  花片の長さ\n",
       "0     5.1    1.4\n",
       "1     4.9    1.4\n",
       "2     4.7    1.3\n",
       "3     4.6    1.5\n",
       "4     5.0    1.4"
      ]
     },
     "execution_count": 11,
     "metadata": {},
     "output_type": "execute_result"
    }
   ],
   "source": [
    "X = df[['がく片の長さ','花片の長さ']]\n",
    "X.head()"
   ]
  },
  {
   "cell_type": "markdown",
   "metadata": {},
   "source": [
    "項目名は長くて面倒という場合は、行や列の番号で抽出する部分を指定することもできます。"
   ]
  },
  {
   "cell_type": "code",
   "execution_count": 12,
   "metadata": {},
   "outputs": [
    {
     "data": {
      "text/html": [
       "<div>\n",
       "<style>\n",
       "    .dataframe thead tr:only-child th {\n",
       "        text-align: right;\n",
       "    }\n",
       "\n",
       "    .dataframe thead th {\n",
       "        text-align: left;\n",
       "    }\n",
       "\n",
       "    .dataframe tbody tr th {\n",
       "        vertical-align: top;\n",
       "    }\n",
       "</style>\n",
       "<table border=\"1\" class=\"dataframe\">\n",
       "  <thead>\n",
       "    <tr style=\"text-align: right;\">\n",
       "      <th></th>\n",
       "      <th>がく片の幅</th>\n",
       "      <th>花片の幅</th>\n",
       "    </tr>\n",
       "  </thead>\n",
       "  <tbody>\n",
       "    <tr>\n",
       "      <th>2</th>\n",
       "      <td>3.2</td>\n",
       "      <td>0.2</td>\n",
       "    </tr>\n",
       "    <tr>\n",
       "      <th>3</th>\n",
       "      <td>3.1</td>\n",
       "      <td>0.2</td>\n",
       "    </tr>\n",
       "    <tr>\n",
       "      <th>4</th>\n",
       "      <td>3.6</td>\n",
       "      <td>0.2</td>\n",
       "    </tr>\n",
       "  </tbody>\n",
       "</table>\n",
       "</div>"
      ],
      "text/plain": [
       "   がく片の幅  花片の幅\n",
       "2    3.2   0.2\n",
       "3    3.1   0.2\n",
       "4    3.6   0.2"
      ]
     },
     "execution_count": 12,
     "metadata": {},
     "output_type": "execute_result"
    }
   ],
   "source": [
    "X = df.iloc[2:5,[1,3]]\n",
    "X"
   ]
  },
  {
   "cell_type": "markdown",
   "metadata": {},
   "source": [
    "pandas では、index は保存されます。番号を振り直すこともできますが、ここでは述べません。\n",
    "がく片の長さと幅の関係をグラフ化してみようと思います。まずは必要なデータを取り出した変数を作りましょう。\n",
    "\n",
    "# 課題\n",
    "花弁の長さと幅を抜き出したデータを変数 K に代入し、Kの上から５つ分を head() で表示しみなさい。"
   ]
  },
  {
   "cell_type": "code",
   "execution_count": 13,
   "metadata": {},
   "outputs": [
    {
     "data": {
      "text/html": [
       "<div>\n",
       "<style>\n",
       "    .dataframe thead tr:only-child th {\n",
       "        text-align: right;\n",
       "    }\n",
       "\n",
       "    .dataframe thead th {\n",
       "        text-align: left;\n",
       "    }\n",
       "\n",
       "    .dataframe tbody tr th {\n",
       "        vertical-align: top;\n",
       "    }\n",
       "</style>\n",
       "<table border=\"1\" class=\"dataframe\">\n",
       "  <thead>\n",
       "    <tr style=\"text-align: right;\">\n",
       "      <th></th>\n",
       "      <th>花片の長さ</th>\n",
       "      <th>花片の幅</th>\n",
       "    </tr>\n",
       "  </thead>\n",
       "  <tbody>\n",
       "    <tr>\n",
       "      <th>0</th>\n",
       "      <td>1.4</td>\n",
       "      <td>0.2</td>\n",
       "    </tr>\n",
       "    <tr>\n",
       "      <th>1</th>\n",
       "      <td>1.4</td>\n",
       "      <td>0.2</td>\n",
       "    </tr>\n",
       "    <tr>\n",
       "      <th>2</th>\n",
       "      <td>1.3</td>\n",
       "      <td>0.2</td>\n",
       "    </tr>\n",
       "    <tr>\n",
       "      <th>3</th>\n",
       "      <td>1.5</td>\n",
       "      <td>0.2</td>\n",
       "    </tr>\n",
       "    <tr>\n",
       "      <th>4</th>\n",
       "      <td>1.4</td>\n",
       "      <td>0.2</td>\n",
       "    </tr>\n",
       "  </tbody>\n",
       "</table>\n",
       "</div>"
      ],
      "text/plain": [
       "   花片の長さ  花片の幅\n",
       "0    1.4   0.2\n",
       "1    1.4   0.2\n",
       "2    1.3   0.2\n",
       "3    1.5   0.2\n",
       "4    1.4   0.2"
      ]
     },
     "execution_count": 13,
     "metadata": {},
     "output_type": "execute_result"
    }
   ],
   "source": [
    "K = df.iloc[:,[2,3]]\n",
    "K.head()"
   ]
  },
  {
   "cell_type": "code",
   "execution_count": 14,
   "metadata": {
    "collapsed": true
   },
   "outputs": [],
   "source": [
    "X = df.iloc[:, :2]  \n",
    "y = iris.target"
   ]
  },
  {
   "cell_type": "markdown",
   "metadata": {},
   "source": [
    "大抵の場合、pandas のデータフレームの列は numpy の１次元データの様に扱えます。"
   ]
  },
  {
   "cell_type": "code",
   "execution_count": 15,
   "metadata": {},
   "outputs": [
    {
     "data": {
      "text/plain": [
       "((3.7999999999999998, 8.4000000000000004), (1.5, 4.9000000000000004))"
      ]
     },
     "execution_count": 15,
     "metadata": {},
     "output_type": "execute_result"
    }
   ],
   "source": [
    "x1_min, x1_max  = X['がく片の長さ'].min()-0.5,  X['がく片の長さ'].max()+0.5\n",
    "x2_min, x2_max = X['がく片の幅'].min()-0.5,  X['がく片の幅'].max()+0.5\n",
    "(x1_min, x1_max), (x2_min, x2_max )"
   ]
  },
  {
   "cell_type": "markdown",
   "metadata": {},
   "source": [
    "0.5 はグラフ化するときのマージン分です。\n",
    "# 課題\n",
    "花片の長さをx3,、幅をx4 として同様に min, max を定義しなさい"
   ]
  },
  {
   "cell_type": "code",
   "execution_count": 16,
   "metadata": {},
   "outputs": [
    {
     "data": {
      "text/plain": [
       "((0.5, 7.4000000000000004), (-0.40000000000000002, 3.0))"
      ]
     },
     "execution_count": 16,
     "metadata": {},
     "output_type": "execute_result"
    }
   ],
   "source": [
    "x3_min, x3_max  = K['花片の長さ'].min()-0.5,  K['花片の長さ'].max()+0.5\n",
    "x4_min, x4_max = K['花片の幅'].min()-0.5,  K['花片の幅'].max()+0.5\n",
    "(x3_min, x3_max), (x4_min, x4_max )"
   ]
  },
  {
   "cell_type": "markdown",
   "metadata": {},
   "source": [
    "# 課題３\n",
    "次のプログラムは各項目の関係をグラフ化して表示するプログラムである。\n",
    "４項目あるので横軸に何をとるか、縦軸に何をとるかで４×３＝１２通りのグラフが描ける。\n",
    "「がく片の長さと幅の関係」を参考にして、花片の長さと幅、がく片の長さと花片の長さ、がく片の幅と花片の幅の関係をグラフ化しなさい。"
   ]
  },
  {
   "cell_type": "code",
   "execution_count": 26,
   "metadata": {
    "scrolled": true
   },
   "outputs": [
    {
     "data": {
      "image/png": "[encoded data removed]",
      "text/plain": [
       "<matplotlib.figure.Figure at 0x271f887bef0>"
      ]
     },
     "metadata": {},
     "output_type": "display_data"
    }
   ],
   "source": [
    "# 新規のウィンドウを描画\n",
    "fig = plt.figure(figsize=(12, 12) )\n",
    "plt.clf()\n",
    "plt.rcParams['font.family'] = 'HGMaruGothicMPRO'  # 日本語フォントを指定　やらないと□になる\n",
    "# フォントがない場合は、こちらからttfをダウンロードしてインストールせよ。　　http://ipafont.ipa.go.jp/old/ipafont/download.html\n",
    "plt.rcParams[\"figure.figsize\"] = [8, 6]\n",
    "plt.rcParams['font.size'] = 14 #フォントサイズを設定 default : 12\n",
    "plt.rcParams['xtick.labelsize'] = 15 # 横軸のフォントサイズ\n",
    "plt.rcParams['ytick.labelsize'] = 15\n",
    "\n",
    "# サブプロットを追加\n",
    "ax1 = fig.add_subplot(2,2,1)\n",
    "ax1.scatter(X['がく片の長さ'], X['がく片の幅'], c=y, cmap=plt.cm.Set1, edgecolor='k')\n",
    "\n",
    "plt.xlabel('がく片の長さ')\n",
    "plt.ylabel('がく片の幅')\n",
    "plt.title('がく片の長さと幅の関係')\n",
    "plt.xlim(x1_min, x1_max)  # ｘ軸の最小と最大の指定\n",
    "plt.ylim(x2_min, x2_max)  # y軸の最小と最大の指定\n",
    "plt.xticks(()) # メモリはつけない、という意味\n",
    "plt.yticks(())\n",
    "\n",
    "ax2 =  fig.add_subplot(2,2,2)\n",
    "plt.title('花片の長さと幅の関係')\n",
    "ax2.scatter(K['花片の長さ'], K['花片の幅'], c=y, cmap=plt.cm.Set1, edgecolor='k')\n",
    "\n",
    "plt.xlabel('花片の長さ')\n",
    "plt.ylabel('花片の幅')\n",
    "plt.title('花片の長さと幅の関係')\n",
    "plt.xlim(x3_min, x3_max)  # ｘ軸の最小と最大の指定\n",
    "plt.ylim(x4_min, x4_max)  # y軸の最小と最大の指定\n",
    "plt.xticks(()) # メモリはつけない、という意味\n",
    "plt.yticks(())\n",
    "\n",
    "ax3 =  fig.add_subplot(2,2,3)\n",
    "plt.title('がく片の長さと花片の長さの関係')\n",
    "ax3.scatter(X['がく片の長さ'], K['花片の長さ'], c=y, cmap=plt.cm.Set1, edgecolor='k')\n",
    "\n",
    "plt.xlabel('がく片の長さ')\n",
    "plt.ylabel('花片の長さ')\n",
    "plt.title('がく片の長さと花片の長さの関係')\n",
    "plt.xlim(x1_min, x1_max)  # ｘ軸の最小と最大の指定\n",
    "plt.ylim(x3_min, x3_max)  # y軸の最小と最大の指定\n",
    "plt.xticks(()) # メモリはつけない、という意味\n",
    "plt.yticks(())\n",
    "\n",
    "ax4 =  fig.add_subplot(2,2,4)\n",
    "plt.title('がく片の幅と花片の幅の関係')\n",
    "ax4.scatter(X['がく片の幅'], K['花片の幅'], c=y, cmap=plt.cm.Set1, edgecolor='k')\n",
    "\n",
    "plt.xlabel('がく片の幅')\n",
    "plt.ylabel('花片の幅')\n",
    "plt.title('がく片の幅と花方の幅の関係')\n",
    "plt.xlim(x2_min, x2_max)  # ｘ軸の最小と最大の指定\n",
    "plt.ylim(x4_min, x4_max)  # y軸の最小と最大の指定\n",
    "plt.xticks(()) # メモリはつけない、という意味\n",
    "plt.yticks(())\n",
    "\n",
    "plt.show()"
   ]
  },
  {
   "cell_type": "code",
   "execution_count": null,
   "metadata": {
    "collapsed": true
   },
   "outputs": [],
   "source": []
  },
  {
   "cell_type": "markdown",
   "metadata": {},
   "source": [
    "- [iris データ](https://en.wikipedia.org/wiki/Iris_flower_data_set)\n",
    "\n",
    "- [Matplotlib.pyplotのplotの全引数を解説](http://own-search-and-study.xyz/2016/08/08/matplotlib-pyplot%E3%81%AEplot%E3%81%AE%E5%85%A8%E5%BC%95%E6%95%B0%E3%82%92%E4%BD%BF%E3%81%84%E3%81%93%E3%81%AA%E3%81%99/[()\n",
    "\n",
    "- [The Iris Dataset](http://scikit-learn.org/stable/auto_examples/datasets/plot_iris_dataset.html)\n"
   ]
  },
  {
   "cell_type": "markdown",
   "metadata": {},
   "source": [
    "http://qiita.com/danpansa/items/29cea2b14c0e4db237f8\n",
    "\n",
    "http://blog.kaggle.com/2015/04/22/scikit-learn-video-3-machine-learning-first-steps-with-the-iris-dataset/  \n",
    "\n",
    "![](http://5047-presscdn.pagely.netdna-cdn.com/wp-content/uploads/2015/04/iris_petal_sepal.png)"
   ]
  },
  {
   "cell_type": "code",
   "execution_count": null,
   "metadata": {
    "collapsed": true
   },
   "outputs": [],
   "source": []
  },
  {
   "cell_type": "code",
   "execution_count": null,
   "metadata": {
    "collapsed": true
   },
   "outputs": [],
   "source": []
  }
 ],
 "metadata": {
  "kernelspec": {
   "display_name": "Python 3",
   "language": "python",
   "name": "python3"
  },
  "language_info": {
   "codemirror_mode": {
    "name": "ipython",
    "version": 3
   },
   "file_extension": ".py",
   "mimetype": "text/x-python",
   "name": "python",
   "nbconvert_exporter": "python",
   "pygments_lexer": "ipython3",
   "version": "3.5.3"
  }
 },
 "nbformat": 4,
 "nbformat_minor": 2
}
