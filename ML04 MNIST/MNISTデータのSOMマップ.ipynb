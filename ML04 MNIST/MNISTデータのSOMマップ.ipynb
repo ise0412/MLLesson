{
 "cells": [
  {
   "cell_type": "markdown",
   "metadata": {},
   "source": [
    "- [ChainerでSOMを実装してみた](http://ytbilly3636.hateblo.jp/entry/2017/05/28/220227)\n",
    "を python3 用に修正したプログラム。"
   ]
  },
  {
   "cell_type": "code",
   "execution_count": 16,
   "metadata": {},
   "outputs": [
    {
     "name": "stdout",
     "output_type": "stream",
     "text": [
      "iter: 0\n"
     ]
    },
    {
     "ename": "KeyboardInterrupt",
     "evalue": "",
     "output_type": "error",
     "traceback": [
      "\u001b[0;31m---------------------------------------------------------------------------\u001b[0m",
      "\u001b[0;31mKeyboardInterrupt\u001b[0m                         Traceback (most recent call last)",
      "\u001b[0;32m<ipython-input-16-bd4461d27428>\u001b[0m in \u001b[0;36m<module>\u001b[0;34m()\u001b[0m\n\u001b[1;32m     91\u001b[0m \u001b[0;34m\u001b[0m\u001b[0m\n\u001b[1;32m     92\u001b[0m     \u001b[0;31m# 可視化\u001b[0m\u001b[0;34m\u001b[0m\u001b[0;34m\u001b[0m\u001b[0m\n\u001b[0;32m---> 93\u001b[0;31m     \u001b[0msom\u001b[0m\u001b[0;34m.\u001b[0m\u001b[0mweight_show\u001b[0m\u001b[0;34m(\u001b[0m\u001b[0min_width\u001b[0m\u001b[0;34m=\u001b[0m\u001b[0;36m28\u001b[0m\u001b[0;34m,\u001b[0m \u001b[0mch\u001b[0m\u001b[0;34m=\u001b[0m\u001b[0;36m1\u001b[0m\u001b[0;34m)\u001b[0m\u001b[0;34m\u001b[0m\u001b[0m\n\u001b[0m\u001b[1;32m     94\u001b[0m \u001b[0;34m\u001b[0m\u001b[0m\n\u001b[1;32m     95\u001b[0m \u001b[0mcv2\u001b[0m\u001b[0;34m.\u001b[0m\u001b[0mdestroyAllWindows\u001b[0m\u001b[0;34m(\u001b[0m\u001b[0;34m)\u001b[0m\u001b[0;34m\u001b[0m\u001b[0m\n",
      "\u001b[0;32m<ipython-input-16-bd4461d27428>\u001b[0m in \u001b[0;36mweight_show\u001b[0;34m(self, in_width, ch)\u001b[0m\n\u001b[1;32m     64\u001b[0m                   \u001b[0mshow_array\u001b[0m\u001b[0;34m[\u001b[0m\u001b[0my\u001b[0m\u001b[0;34m*\u001b[0m\u001b[0min_width\u001b[0m\u001b[0;34m:\u001b[0m\u001b[0;34m(\u001b[0m\u001b[0my\u001b[0m\u001b[0;34m+\u001b[0m\u001b[0;36m1\u001b[0m\u001b[0;34m)\u001b[0m\u001b[0;34m*\u001b[0m\u001b[0min_width\u001b[0m\u001b[0;34m,\u001b[0m \u001b[0mx\u001b[0m\u001b[0;34m*\u001b[0m\u001b[0min_width\u001b[0m\u001b[0;34m:\u001b[0m\u001b[0;34m(\u001b[0m\u001b[0mx\u001b[0m\u001b[0;34m+\u001b[0m\u001b[0;36m1\u001b[0m\u001b[0;34m)\u001b[0m\u001b[0;34m*\u001b[0m\u001b[0min_width\u001b[0m\u001b[0;34m]\u001b[0m \u001b[0;34m=\u001b[0m \u001b[0mc\u001b[0m\u001b[0;34m.\u001b[0m\u001b[0mreshape\u001b[0m\u001b[0;34m(\u001b[0m\u001b[0;34m(\u001b[0m\u001b[0min_width\u001b[0m\u001b[0;34m,\u001b[0m \u001b[0min_width\u001b[0m\u001b[0;34m)\u001b[0m\u001b[0;34m)\u001b[0m\u001b[0;34m\u001b[0m\u001b[0m\n\u001b[1;32m     65\u001b[0m         \u001b[0mcv2\u001b[0m\u001b[0;34m.\u001b[0m\u001b[0mimshow\u001b[0m\u001b[0;34m(\u001b[0m\u001b[0;34m'win'\u001b[0m\u001b[0;34m,\u001b[0m \u001b[0mshow_array\u001b[0m\u001b[0;34m)\u001b[0m\u001b[0;34m\u001b[0m\u001b[0m\n\u001b[0;32m---> 66\u001b[0;31m         \u001b[0mcv2\u001b[0m\u001b[0;34m.\u001b[0m\u001b[0mwaitKey\u001b[0m\u001b[0;34m(\u001b[0m\u001b[0;36m1\u001b[0m\u001b[0;34m)\u001b[0m\u001b[0;34m\u001b[0m\u001b[0m\n\u001b[0m\u001b[1;32m     67\u001b[0m         \u001b[0;32mreturn\u001b[0m\u001b[0;34m\u001b[0m\u001b[0m\n\u001b[1;32m     68\u001b[0m \u001b[0;34m\u001b[0m\u001b[0m\n",
      "\u001b[0;31mKeyboardInterrupt\u001b[0m: "
     ]
    }
   ],
   "source": [
    "import cv2\n",
    "import numpy as np\n",
    "import chainer\n",
    "import chainer.links as L\n",
    "from chainer import Chain, Variable\n",
    "from chainer import datasets\n",
    "\n",
    "class SOM(Chain):\n",
    "\n",
    "    # SOMをchainer.links.Linearで表現\n",
    "    # 競合層は2次元マップなので2次元→1次元変換を行いながら計算する\n",
    "    # widthは2次元マップの幅　全部で競合層のニューロンはwidth x width個\n",
    "    def __init__(self, width):\n",
    "        self.width = width\n",
    "        super(SOM, self).__init__(\n",
    "            competitive = L.Linear(in_size=None, out_size=self.width * self.width, nobias=True)\n",
    "        )\n",
    "        return\n",
    "    \n",
    "    # 勝者決定アルゴリズム\n",
    "    # 入力ベクトル（x）に最も類似する重みベクトルを持つニューロンを探す\n",
    "    # 類似度は内積によって計算する\n",
    "    # 返り値はニューロンのマップ上の座標\n",
    "    def predict(self, x):\n",
    "        ip  = self.competitive(x)\n",
    "        pos = np.argmax(ip.data)\n",
    "        return pos/self.width, pos%self.width\n",
    "    \n",
    "    # 近傍関数算出アルゴリズム\n",
    "    # ガウス関数によって定義\n",
    "    # centerはガウス関数の中心座標、varはガウス関数の分散  \n",
    "    def __neighbor(self, center, var):\n",
    "        y = np.abs(np.arange(-center[0], self.width - center[0]))\n",
    "        x = np.abs(np.arange(-center[1], self.width - center[1]))        \n",
    "        xx, yy = np.meshgrid(x, y)\n",
    "        d2 = xx**2 + yy**2\n",
    "        return np.exp(- d2 / (2 * (var**2)))\n",
    "    \n",
    "    # インクリメンタル方式の学習（←→バッチ方式）\n",
    "    # xは入力ベクトル、lrは学習係数、varはガウス関数の分散\n",
    "    # reinforceは強化・減衰の指定　今回は実装していないがここを活用すればLVQ1が実装可能\n",
    "    def incr_learn(self, x, lr=0.1, var=4.0, reinforce=True):\n",
    "        pos = self.predict(x)\n",
    "        delta_x = (lr * self.__neighbor(pos, var).reshape(1, -1)).T.dot(x.data)\n",
    "        delta_w = (lr * self.__neighbor(pos, var).reshape(1, -1)).T * self.competitive.W.data\n",
    "        self.competitive.W.data += delta_x if reinforce else - delta_x\n",
    "        self.competitive.W.data -= delta_w if reinforce else - delta_w\n",
    "        return\n",
    "    \n",
    "    # マップの可視化\n",
    "    # 入力ベクトルが正方形の画像であるときのみ利用可能（汎用性なし）\n",
    "    # in_widthは入力画像の幅、chは入力画像のチャンネル\n",
    "    def weight_show(self, in_width, ch):\n",
    "        if ch == 3:\n",
    "            show_array = np.zeros((in_width*self.width, in_width*self.width, 3), dtype=np.float32)\n",
    "        else:\n",
    "            show_array = np.zeros((in_width*self.width, in_width*self.width), dtype=np.float32)                  \n",
    "        for i, c in enumerate(self.competitive.W.data):\n",
    "            y = i // self.width\n",
    "            x = i % self.width\n",
    "            if ch == 3:\n",
    "                show_array[y*in_width:(y+1)*in_width, x*in_width:(x+1)*in_width] = cv2.cvtColor(np.rollaxis(c.reshape(ch, in_width, in_width), 0, 3), cv2.COLOR_RGB2BGR)\n",
    "            else:\n",
    "                  show_array[y*in_width:(y+1)*in_width, x*in_width:(x+1)*in_width] = c.reshape((in_width, in_width))\n",
    "        cv2.imshow('win', show_array)\n",
    "        cv2.waitKey(1)\n",
    "        return\n",
    "\n",
    "\n",
    "# 10x10のマップを用意\n",
    "som = SOM(width=10)\n",
    "\n",
    "# 入力としてMNISTデータセットを使用\n",
    "# CIFAR10でも可\n",
    "train, test = datasets.get_mnist()\n",
    "\n",
    "# 1バッチを学習\n",
    "for it, tr in enumerate(train):\n",
    "    if it % 5000 == 0:\n",
    "        print('iter:', it)\n",
    "\n",
    "    # 入力ベクトルを用意\n",
    "    x = Variable(np.array([tr[0]], dtype=np.float32))\n",
    "    \n",
    "    # 学習率とガウス関数の分散は徐々に小さくしていく\n",
    "    lr  = 0.05 * (1.0 - float(it) / len(train))\n",
    "    var = 2.0  * (1.0 - float(it) / len(train))\n",
    "\n",
    "    # 学習\n",
    "    som.incr_learn(x, lr=lr, var=var)\n",
    "    \n",
    "    # 可視化\n",
    "    som.weight_show(in_width=28, ch=1)\n",
    "    \n",
    "cv2.destroyAllWindows()\n",
    "cv2.waitKey(1)"
   ]
  },
  {
   "cell_type": "code",
   "execution_count": 18,
   "metadata": {},
   "outputs": [
    {
     "data": {
      "text/plain": [
       "-1"
      ]
     },
     "execution_count": 18,
     "metadata": {},
     "output_type": "execute_result"
    }
   ],
   "source": [
    "# 強制終了した場合、このブロックを実行すればウィンドウは消える\n",
    "cv2.destroyAllWindows()\n",
    "cv2.waitKey(1)"
   ]
  },
  {
   "cell_type": "code",
   "execution_count": null,
   "metadata": {
    "collapsed": true
   },
   "outputs": [],
   "source": []
  }
 ],
 "metadata": {
  "kernelspec": {
   "display_name": "Python 3",
   "language": "python",
   "name": "python3"
  },
  "language_info": {
   "codemirror_mode": {
    "name": "ipython",
    "version": 3
   },
   "file_extension": ".py",
   "mimetype": "text/x-python",
   "name": "python",
   "nbconvert_exporter": "python",
   "pygments_lexer": "ipython3",
   "version": "3.6.2"
  }
 },
 "nbformat": 4,
 "nbformat_minor": 2
}
