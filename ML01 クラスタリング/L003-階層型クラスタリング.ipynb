{
 "cells": [
  {
   "cell_type": "code",
   "execution_count": null,
   "metadata": {},
   "outputs": [],
   "source": [
    "from scipy.cluster.hierarchy import linkage, dendrogram\n",
    "from scipy.spatial.distance import pdist\n",
    "from scipy.cluster import hierarchy\n",
    "import numpy as np\n",
    "import matplotlib.pyplot as plt\n",
    "%matplotlib inline\n",
    "\n",
    "X = np.array([x for x in set(np.round(100*np.random.rand(100)).astype('int'))])\n",
    "X = X[:8]\n",
    "X"
   ]
  },
  {
   "cell_type": "code",
   "execution_count": null,
   "metadata": {},
   "outputs": [],
   "source": [
    "Y = [[x] for x in X]\n",
    "Y"
   ]
  },
  {
   "cell_type": "code",
   "execution_count": null,
   "metadata": {},
   "outputs": [],
   "source": [
    "Z = pdist(Y)\n",
    "Z   # ZはYの要素のペアそれぞれの距離の配列"
   ]
  },
  {
   "cell_type": "code",
   "execution_count": null,
   "metadata": {},
   "outputs": [],
   "source": [
    "pd = linkage(Z,method='ward') # ウォード法\n",
    "dendro = dendrogram(pd,labels=X,truncate_mode='lastp')"
   ]
  },
  {
   "cell_type": "code",
   "execution_count": null,
   "metadata": {},
   "outputs": [],
   "source": [
    "pd = linkage(Z,method='single') # 最短距離法\n",
    "dendro = dendrogram(pd,labels=X,truncate_mode='lastp')"
   ]
  },
  {
   "cell_type": "code",
   "execution_count": null,
   "metadata": {},
   "outputs": [],
   "source": [
    "pd = linkage(Z,method='average') # 群平均法\n",
    "dendro = dendrogram(pd,labels=X,truncate_mode='lastp')"
   ]
  },
  {
   "cell_type": "code",
   "execution_count": null,
   "metadata": {
    "scrolled": true
   },
   "outputs": [],
   "source": [
    "pd = linkage(Z,method='centroid') # 重心法\n",
    "dendro = dendrogram(pd,labels=X,truncate_mode='lastp')"
   ]
  },
  {
   "cell_type": "markdown",
   "metadata": {},
   "source": [
    "# 課題　\n",
    "1. 重心法を使ってD={0,2,5,9,12,14} のデンドログラムを作成せよ"
   ]
  },
  {
   "cell_type": "code",
   "execution_count": null,
   "metadata": {},
   "outputs": [],
   "source": [
    "X=np.array([0,2,5,9,14,12])\n",
    "Z = [[x] for x in X]\n",
    "pd = linkage(pdist(Z),method='centroid') # 重心法\n",
    "dendro = dendrogram(pd,labels=X,truncate_mode='lastp')"
   ]
  },
  {
   "cell_type": "markdown",
   "metadata": {},
   "source": [
    "2. 二次元平面上に {(0,0), (0,1), (0,2),(4,0), (4,1), (4,2)}の６点の点集合がある． これらの点をword 法を使って階層クラスタリングせよ。"
   ]
  },
  {
   "cell_type": "code",
   "execution_count": null,
   "metadata": {},
   "outputs": [],
   "source": [
    "Z = [(0,0), (0,1), (0,2),(4,0), (4,1), (4,2)]\n",
    "pd = linkage(pdist(Z),method='ward') # ウォード法\n",
    "dendro = dendrogram(pd,labels=Z,truncate_mode='lastp')"
   ]
  }
 ],
 "metadata": {
  "kernelspec": {
   "display_name": "Python 3",
   "language": "python",
   "name": "python3"
  },
  "language_info": {
   "codemirror_mode": {
    "name": "ipython",
    "version": 3
   },
   "file_extension": ".py",
   "mimetype": "text/x-python",
   "name": "python",
   "nbconvert_exporter": "python",
   "pygments_lexer": "ipython3",
   "version": "3.6.2"
  }
 },
 "nbformat": 4,
 "nbformat_minor": 2
}
