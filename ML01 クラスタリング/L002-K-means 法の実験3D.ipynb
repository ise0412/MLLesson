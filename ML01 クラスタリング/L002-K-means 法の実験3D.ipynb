{
 "cells": [
  {
   "cell_type": "markdown",
   "metadata": {},
   "source": [
    "# K-means 法の実験"
   ]
  },
  {
   "cell_type": "code",
   "execution_count": null,
   "metadata": {
    "collapsed": true
   },
   "outputs": [],
   "source": [
    "import numpy as np\n",
    "import numpy.matlib\n",
    "import matplotlib.pyplot as plt\n",
    "from matplotlib import font_manager\n",
    "from sklearn.cluster import KMeans\n",
    "import pandas as pd\n",
    "from mpl_toolkits.mplot3d import Axes3D\n",
    "# %matplotlib　notebook\n",
    "%matplotlib　inline"
   ]
  },
  {
   "cell_type": "code",
   "execution_count": null,
   "metadata": {
    "collapsed": true
   },
   "outputs": [],
   "source": [
    "# ダミーデータの生成　　　　出席点、課題点、試験点\n",
    "np.random.seed(1)\n",
    "data1 = np.round(np.random.multivariate_normal([35,28,35],[[3,0.5,1],[0.5,3,0.5],[0.5,0.5,3]],10),1) # すべてよい\n",
    "data2 = np.round(np.random.multivariate_normal([30,26,25],[[3,0.5,0],[0.5,5,0],[0,0,4]], 20),1) #  出席と課題はよいが試験はいまいち\n",
    "data3 = np.round(np.random.multivariate_normal([25,20,20],[[5,0,0],[0,5,0],[0,0,4]], 20),1)  #  凡庸\n",
    "data4 = np.round(np.random.multivariate_normal([35,8,15],[[3,0,0],[0,4,0],[0,0,5]], 10),1)  #  出席だけ\n",
    "data5 = np.round(np.random.multivariate_normal([8,8,8],[[2,1,1],[1,3,1],[1,1,2]], 10),1) # ダメダメ\n",
    "data = np.r_[data1,data2,data3,data4,data5]\n",
    "rank = np.r_[np.array(['A']*10),np.array(['B']*20),np.array(['C']*20),np.array(['D']*10),np.array(['E']*10)]\n",
    "df = pd.DataFrame(data,columns=['Shusseki','Kadai','Siken'])\n",
    "df['Rank']=rank\n",
    "df= df.reindex(np.random.permutation(df.index)).reset_index(drop=True)\n",
    "df.head(10) #  頭から 10 個だけ表示"
   ]
  },
  {
   "cell_type": "markdown",
   "metadata": {},
   "source": [
    "# ２次元散布図のプロット"
   ]
  },
  {
   "cell_type": "code",
   "execution_count": null,
   "metadata": {
    "collapsed": true,
    "scrolled": false
   },
   "outputs": [],
   "source": [
    "# 新規のウィンドウを描画\n",
    "fig = plt.figure(figsize=(8,6))\n",
    "# サブプロットを追加\n",
    "ax1 = fig.add_subplot(2,2,1)\n",
    "ax2 = fig.add_subplot(2,2,2)\n",
    "ax3 = fig.add_subplot(2,2,3)\n",
    "ax4 = fig.add_subplot(2,2,4)\n",
    "ax1.hist(df['Siken'],bins=20,color='k',alpha=0.3)\n",
    "ax2.scatter(df['Shusseki'],df['Siken'])\n",
    "ax2.set_xlabel(\"Shusseki\")\n",
    "ax2.set_ylabel(\"Siken\")\n",
    "ax3.scatter(df['Shusseki'],df['Kadai'])\n",
    "ax3.set_xlabel(\"Shusseki\")\n",
    "ax3.set_ylabel(\"Kadai\")\n",
    "ax4.scatter(df['Kadai'],df['Siken'])\n",
    "ax4.set_xlabel(\"Kadai\")\n",
    "ax4.set_ylabel(\"Siken\")\n",
    "plt.show()\n",
    "plt.savefig(\"image.png\")"
   ]
  },
  {
   "cell_type": "code",
   "execution_count": null,
   "metadata": {
    "collapsed": true,
    "scrolled": false
   },
   "outputs": [],
   "source": [
    "dx,dy,dz,rk = np.array(df['Shusseki']),np.array(df['Kadai']), np.array(df['Siken']),np.array(df['Rank'])\n",
    "fig = plt.figure()\n",
    "ax = Axes3D(fig)\n",
    "ax.set_xlabel(\"Shusseki\")\n",
    "ax.set_ylabel(\"Kadai\")\n",
    "ax.set_zlabel(\"Shiken\")\n",
    "ax.scatter3D(dx[df['Rank']=='A'], dy[df['Rank']=='A'], dz[df['Rank']=='A'], c=\"green\")\n",
    "ax.scatter3D(dx[df['Rank']=='B'], dy[df['Rank']=='B'], dz[df['Rank']=='B'], c=\"blue\")\n",
    "ax.scatter3D(dx[df['Rank']=='C'], dy[df['Rank']=='C'], dz[df['Rank']=='C'], c=\"orange\")\n",
    "ax.scatter3D(dx[df['Rank']=='D'], dy[df['Rank']=='D'], dz[df['Rank']=='D'], c=\"purple\")\n",
    "ax.scatter3D(dx[df['Rank']=='E'], dy[df['Rank']=='E'], dz[df['Rank']=='E'], c=\"red\")\n",
    "plt.show()"
   ]
  },
  {
   "cell_type": "markdown",
   "metadata": {},
   "source": [
    "# 数値データ部分だけを抽出¶"
   ]
  },
  {
   "cell_type": "code",
   "execution_count": null,
   "metadata": {
    "collapsed": true
   },
   "outputs": [],
   "source": [
    "data = df.T[0:3].T\n",
    "data.head()"
   ]
  },
  {
   "cell_type": "markdown",
   "metadata": {},
   "source": [
    "# K-means　法によるクラスタリング"
   ]
  },
  {
   "cell_type": "code",
   "execution_count": null,
   "metadata": {
    "collapsed": true
   },
   "outputs": [],
   "source": [
    "def d(n,itr):\n",
    "    global result\n",
    "    km = KMeans(n_clusters=n,init='random',n_init=1,max_iter=itr,random_state=1)\n",
    "    result = km.fit(data)\n",
    "    fig = plt.figure()\n",
    "    ax = Axes3D(fig)\n",
    "    # \n",
    "    ax.set_xlabel(\"Shusseki\")\n",
    "    ax.set_ylabel(\"Kadai\")\n",
    "    ax.set_zlabel(\"Shiken\")\n",
    "    \n",
    "    print(np.round([km.cluster_centers_[:,0],km.cluster_centers_[:,1],km.cluster_centers_[:,2]],2))\n",
    "    ax.scatter3D(km.cluster_centers_[:,0],km.cluster_centers_[:,1],km.cluster_centers_[:,2],marker='X',c='black')\n",
    "    ax.scatter3D(dx[result.labels_==0.0], dy[result.labels_==0.0], dz[result.labels_==0.0], c=\"green\")\n",
    "    ax.scatter3D(dx[result.labels_==1.0], dy[result.labels_==1.0], dz[result.labels_==1.0], c=\"blue\")\n",
    "    if n > 2:\n",
    "        ax.scatter3D(dx[result.labels_==2.0], dy[result.labels_==2.0], dz[result.labels_==2.0],c=\"orange\")\n",
    "    if n > 3:\n",
    "        ax.scatter3D(dx[result.labels_==3.0], dy[result.labels_==3.0], dz[result.labels_==3.0],c=\"purple\")\n",
    "    if n > 4:\n",
    "        ax.scatter3D(dx[result.labels_==4.0], dy[result.labels_==4.0], dz[result.labels_==4.0],c=\"yellow\")\n",
    "    if n > 5:\n",
    "        ax.scatter3D(dx[result.labels_==5.0], dy[result.labels_==5.0], dz[result.labels_==5.0],c=\"red\")   \n",
    "    plt.show()\n",
    "    return result"
   ]
  },
  {
   "cell_type": "markdown",
   "metadata": {},
   "source": [
    "## 2ランクに分けるなら"
   ]
  },
  {
   "cell_type": "code",
   "execution_count": null,
   "metadata": {
    "collapsed": true
   },
   "outputs": [],
   "source": [
    "d(2,20)"
   ]
  },
  {
   "cell_type": "markdown",
   "metadata": {},
   "source": [
    "## 3クラスタに分類"
   ]
  },
  {
   "cell_type": "code",
   "execution_count": null,
   "metadata": {
    "collapsed": true
   },
   "outputs": [],
   "source": [
    "d(3,100)"
   ]
  },
  {
   "cell_type": "markdown",
   "metadata": {},
   "source": [
    "## ４クラスタに分類"
   ]
  },
  {
   "cell_type": "code",
   "execution_count": null,
   "metadata": {
    "collapsed": true,
    "scrolled": false
   },
   "outputs": [],
   "source": [
    "d(4,100)"
   ]
  },
  {
   "cell_type": "markdown",
   "metadata": {},
   "source": [
    "# ５クラスタに分類"
   ]
  },
  {
   "cell_type": "code",
   "execution_count": null,
   "metadata": {
    "collapsed": true
   },
   "outputs": [],
   "source": [
    "d(5,100)"
   ]
  },
  {
   "cell_type": "markdown",
   "metadata": {},
   "source": [
    "# クラスタリング過程"
   ]
  },
  {
   "cell_type": "code",
   "execution_count": null,
   "metadata": {
    "collapsed": true,
    "scrolled": false
   },
   "outputs": [],
   "source": [
    "for i in range(20):\n",
    "    d(5,i+1)"
   ]
  },
  {
   "cell_type": "code",
   "execution_count": null,
   "metadata": {
    "collapsed": true
   },
   "outputs": [],
   "source": [
    "d(5,100)"
   ]
  },
  {
   "cell_type": "markdown",
   "metadata": {},
   "source": [
    "# 設定したランクと生成されたクラスタの比較"
   ]
  },
  {
   "cell_type": "code",
   "execution_count": null,
   "metadata": {
    "collapsed": true
   },
   "outputs": [],
   "source": [
    "df2 = df.copy()\n",
    "df2['AutoLabel'] = result.labels_\n",
    "df2"
   ]
  },
  {
   "cell_type": "code",
   "execution_count": null,
   "metadata": {
    "collapsed": true
   },
   "outputs": [],
   "source": []
  }
 ],
 "metadata": {
  "kernelspec": {
   "display_name": "Python 3",
   "language": "python",
   "name": "python3"
  },
  "language_info": {
   "codemirror_mode": {
    "name": "ipython",
    "version": 3
   },
   "file_extension": ".py",
   "mimetype": "text/x-python",
   "name": "python",
   "nbconvert_exporter": "python",
   "pygments_lexer": "ipython3",
   "version": "3.6.2"
  }
 },
 "nbformat": 4,
 "nbformat_minor": 2
}
